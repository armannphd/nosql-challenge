{
 "cells": [
  {
   "cell_type": "markdown",
   "id": "9a57c4c6",
   "metadata": {},
   "source": [
    "# Eat Safe, Love"
   ]
  },
  {
   "cell_type": "markdown",
   "id": "064ef857",
   "metadata": {},
   "source": [
    "## Notebook Set Up"
   ]
  },
  {
   "cell_type": "code",
   "execution_count": 1,
   "id": "3ecdd008",
   "metadata": {},
   "outputs": [],
   "source": [
    "# Import dependencies\n",
    "from pymongo import MongoClient\n",
    "from pprint import pprint\n",
    "import pandas as pd\n",
    "import matplotlib.pyplot as plt"
   ]
  },
  {
   "cell_type": "code",
   "execution_count": 2,
   "id": "59390c4a",
   "metadata": {},
   "outputs": [],
   "source": [
    "# Create an instance of MongoClient\n",
    "mongo = MongoClient(port=27017)"
   ]
  },
  {
   "cell_type": "code",
   "execution_count": 3,
   "id": "71e373c1",
   "metadata": {},
   "outputs": [],
   "source": [
    "# assign the uk_food database to a variable name\n",
    "db = mongo['uk_food']"
   ]
  },
  {
   "cell_type": "code",
   "execution_count": 4,
   "id": "18ab463c",
   "metadata": {},
   "outputs": [
    {
     "name": "stdout",
     "output_type": "stream",
     "text": [
      "['establishments']\n"
     ]
    }
   ],
   "source": [
    "# review the collections in our new database\n",
    "print(db.list_collection_names())"
   ]
  },
  {
   "cell_type": "code",
   "execution_count": 5,
   "id": "11c9f11b",
   "metadata": {},
   "outputs": [],
   "source": [
    "# assign the collection to a variable\n",
    "establishments = db['establishments']\n"
   ]
  },
  {
   "cell_type": "markdown",
   "id": "d5671434",
   "metadata": {},
   "source": [
    "## Part 3: Exploratory Analysis\n",
    "Unless otherwise stated, for each question: \n",
    "* Use `count_documents` to display the number of documents contained in the result.\n",
    "* Display the first document in the results using `pprint`.\n",
    "* Convert the result to a Pandas DataFrame, print the number of rows in the DataFrame, and display the first 10 rows."
   ]
  },
  {
   "cell_type": "markdown",
   "id": "314bd884",
   "metadata": {},
   "source": [
    "### 1. Which establishments have a hygiene score equal to 20?"
   ]
  },
  {
   "cell_type": "code",
   "execution_count": null,
   "id": "c2da7648",
   "metadata": {},
   "outputs": [],
   "source": [
    "# Find the establishments with a hygiene score of 20\n",
    "query = {\"scores.Hygiene\": {\"$eq\": 20}}\n",
    "results = establishments.find(query)\n",
    "\n",
    "# Use count_documents to display the number of documents in the result\n",
    "estab_hygiene_20 = establishments.count_documents(query)\n",
    "\n",
    "print(f'There are {estab_hygiene_20} establishments with a hygiene score of 20.')"
   ]
  },
  {
   "cell_type": "code",
   "execution_count": null,
   "id": "e29ae0f1",
   "metadata": {},
   "outputs": [],
   "source": [
    "# Display the first document in the results using pprint\n",
    "\n",
    "for i in range(1):\n",
    "    pprint(results[i])\n",
    "\n",
    "#_______________________________________\n",
    "# Alternate ways to solve\n",
    "\n",
    "# pprint(results[0])\n",
    "\n",
    "# pprint([x for x in results][0])\n",
    "    \n",
    "\n"
   ]
  },
  {
   "cell_type": "code",
   "execution_count": null,
   "id": "a6e5cece",
   "metadata": {},
   "outputs": [],
   "source": [
    "# Convert the result to a Pandas DataFrame\n",
    "query = {\"scores.Hygiene\": {\"$eq\": 20}}\n",
    "results = establishments.find(query)\n",
    "results_df = pd.DataFrame(results)\n",
    "\n",
    "# Display the number of rows in the DataFrame\n",
    "rows = len(results_df)\n",
    "print(f'There are {rows} rows in the \"results_df\" dataframe.')\n"
   ]
  },
  {
   "cell_type": "code",
   "execution_count": null,
   "id": "ed411610",
   "metadata": {},
   "outputs": [],
   "source": [
    "# Display the first 10 rows of the DataFrame\n",
    "results_df.head(10)"
   ]
  },
  {
   "cell_type": "markdown",
   "id": "0ef4395a",
   "metadata": {},
   "source": [
    "### 2. Which establishments in London have a `RatingValue` greater than or equal to 4?"
   ]
  },
  {
   "cell_type": "code",
   "execution_count": null,
   "id": "8757ee8c",
   "metadata": {},
   "outputs": [],
   "source": [
    "establishments.update_many({}, [ {'$set':{ \"RatingValue\" : {'$toDouble': \"$RatingValue\"}}} ])"
   ]
  },
  {
   "cell_type": "code",
   "execution_count": null,
   "id": "e80b5730",
   "metadata": {},
   "outputs": [],
   "source": [
    "# Find the establishments with London as the Local Authority and has a RatingValue greater than or equal to 4.\n",
    "query = {'$match': {'LocalAuthorityName': {'$regex': \"London\"},\n",
    "                          'RatingValue': {'$gte': 4}\n",
    "              }}\n",
    "\n",
    "results = establishments.count_documents(match_query)\n"
   ]
  },
  {
   "cell_type": "code",
   "execution_count": null,
   "id": "3b127718",
   "metadata": {},
   "outputs": [],
   "source": []
  },
  {
   "cell_type": "code",
   "execution_count": null,
   "id": "764565fc",
   "metadata": {},
   "outputs": [],
   "source": []
  },
  {
   "cell_type": "code",
   "execution_count": null,
   "id": "843c92a6",
   "metadata": {},
   "outputs": [],
   "source": []
  },
  {
   "cell_type": "code",
   "execution_count": null,
   "id": "b5ea05a7",
   "metadata": {},
   "outputs": [],
   "source": [
    "# Use count_documents to display the number of documents in the result\n"
   ]
  },
  {
   "cell_type": "code",
   "execution_count": null,
   "id": "08c33242",
   "metadata": {},
   "outputs": [],
   "source": [
    "# Display the first document in the results using pprint"
   ]
  },
  {
   "cell_type": "code",
   "execution_count": 28,
   "id": "93c63829",
   "metadata": {},
   "outputs": [],
   "source": [
    "# Find the establishments with London as the Local Authority and has a RatingValue greater than or equal to 4.\n",
    "# query = {'LocalAuthorityName': {'$regex':'London'}, 'RatingValue': {'$gte': 4}}\n",
    "# query = {\"RatingValue\": {\"$gte\": 4}}\n",
    "# query = {'LocalAuthorityName': {'$regex':'London'}}\n",
    "# match_query = {'$match': {'LocalAuthorityName': {'$regex': \"London\"}}}\n",
    "\n",
    "match_query = {'$match': {'LocalAuthorityName': {'$regex': \"London\"},\n",
    "                          'RatingValue': {'$gte': 4}\n",
    "              }}\n",
    "\n",
    "# Write an aggregation query that counts the number of documents and finds the maximum height,\n",
    "# grouped by \"classification\"\n",
    "# group_query = {'$group': {'_id': \"$LocalAuthorityName\", \n",
    "#                           'count': { '$sum': 1 },\n",
    "#                           'max_height': { '$max': '$measurements.elementMeasurements.Height' }}}\n",
    "\n",
    "\n",
    "\n",
    "# query = {'LocalAuthorityName': {'$regex':'London'},\n",
    "#          'RatingValue': {'$gte': 4}}\n",
    "results = establishments.find(match_query)\n",
    "\n",
    "# Use count_documents to display the number of documents in the result\n",
    "# results = establishments.find(query)\n",
    "\n",
    "\n"
   ]
  },
  {
   "cell_type": "code",
   "execution_count": null,
   "id": "6a035957",
   "metadata": {},
   "outputs": [],
   "source": [
    "# Display the first document in the results using pprint\n"
   ]
  },
  {
   "cell_type": "code",
   "execution_count": null,
   "id": "07e24ccb",
   "metadata": {},
   "outputs": [],
   "source": [
    "# Convert the result to a Pandas DataFrame\n",
    "\n",
    "# Display the number of rows in the DataFrame\n",
    "\n",
    "# Display the first 10 rows of the DataFrame\n"
   ]
  },
  {
   "cell_type": "markdown",
   "id": "4e570caf",
   "metadata": {},
   "source": [
    "### 3. What are the top 5 establishments with a `RatingValue` rating value of '5', sorted by lowest hygiene score, nearest to the new restaurant added, \"Penang Flavours\"?"
   ]
  },
  {
   "cell_type": "code",
   "execution_count": 54,
   "id": "a71b4576",
   "metadata": {},
   "outputs": [
    {
     "data": {
      "text/plain": [
       "<pymongo.results.UpdateResult at 0x7fd7892f0910>"
      ]
     },
     "execution_count": 54,
     "metadata": {},
     "output_type": "execute_result"
    }
   ],
   "source": [
    "establishments.update_many({}, [ {'$set':{ \"longitude\" : {'$toDouble': \"$longitude\"}}} ])"
   ]
  },
  {
   "cell_type": "code",
   "execution_count": 73,
   "id": "a4447a03",
   "metadata": {},
   "outputs": [
    {
     "data": {
      "text/plain": [
       "36"
      ]
     },
     "execution_count": 73,
     "metadata": {},
     "output_type": "execute_result"
    }
   ],
   "source": [
    "query = {\"RatingValue\": {\"$gte\": 0}}\n",
    "count = establishments.count_documents(query)\n",
    "count"
   ]
  },
  {
   "cell_type": "code",
   "execution_count": 74,
   "id": "59df6005",
   "metadata": {},
   "outputs": [
    {
     "data": {
      "text/plain": [
       "0"
      ]
     },
     "execution_count": 74,
     "metadata": {},
     "output_type": "execute_result"
    }
   ],
   "source": [
    "query = {\"geocode.latitude\": {\"$gte\": 0}}\n",
    "count = establishments.count_documents(query)\n",
    "count"
   ]
  },
  {
   "cell_type": "code",
   "execution_count": null,
   "id": "2cbe243c",
   "metadata": {},
   "outputs": [],
   "source": []
  },
  {
   "cell_type": "code",
   "execution_count": null,
   "id": "567570f6",
   "metadata": {},
   "outputs": [],
   "source": []
  },
  {
   "cell_type": "code",
   "execution_count": 55,
   "id": "1459f308",
   "metadata": {},
   "outputs": [],
   "source": [
    "# Create a query that finds customers who spent less than $500 and had more than 20 visits in 2021\n",
    "degree_search = 0.01\n",
    "latitude = 51.49014200\n",
    "longitude = 0.08384000\n",
    "\n",
    "# query = {'geocode.longitude': {'$gte': (longitude-degree_search), '$lte': (longitude+degree_search)},\n",
    "#          'geocode.latitude': {'$gte': (latitude-degree_search), '$lte': (latitude+degree_search)}}\n",
    "\n",
    "query = {'geocode.longitude': {'$gte': longitude-degree_search, '$lte': longitude+degree_search}}\n",
    "\n",
    "# Remove the 'Address' and 'Email' fields from the results\n",
    "# fields = {'Address': 0, 'Email': 0}\n",
    "\n",
    "# sort in ascending order by '2021_Visits', '2021_Total_Spend'\n",
    "# sort = [('scores.Hygiene', 1)]\n",
    "\n",
    "# limit the results to the first 8\n",
    "\n",
    "\n",
    "# Pretty print the results\n",
    "# pprint(list(establishments.find(query).sort(sort)))"
   ]
  },
  {
   "cell_type": "code",
   "execution_count": 56,
   "id": "eceb8067",
   "metadata": {},
   "outputs": [
    {
     "data": {
      "text/plain": [
       "0"
      ]
     },
     "execution_count": 56,
     "metadata": {},
     "output_type": "execute_result"
    }
   ],
   "source": [
    "query = {'longitude': {'$gte': longitude-degree_search, '$lte': longitude+degree_search}}\n",
    "# query = {\"scores.Hygiene\": {\"$eq\": 20}}\n",
    "results = establishments.count_documents(query)\n",
    "\n",
    "results"
   ]
  },
  {
   "cell_type": "code",
   "execution_count": null,
   "id": "7f599f3d",
   "metadata": {},
   "outputs": [],
   "source": [
    "# Search within 0.01 degree on either side of the latitude and longitude.\n",
    "# Rating value must equal 5\n",
    "# Sort by hygiene score\n",
    "\n",
    "degree_search = 0.01\n",
    "latitude = 51.49014200\n",
    "longitude = 0.08384000\n",
    "\n",
    "query = \n",
    "sort =  \n",
    "\n",
    "# Print the results\n"
   ]
  },
  {
   "cell_type": "code",
   "execution_count": null,
   "id": "a6ad16f7",
   "metadata": {},
   "outputs": [],
   "source": [
    "# Convert result to Pandas DataFrame\n"
   ]
  },
  {
   "cell_type": "markdown",
   "id": "67281254",
   "metadata": {},
   "source": [
    "### 4. How many establishments in each Local Authority area have a hygiene score of 0?"
   ]
  },
  {
   "cell_type": "code",
   "execution_count": 36,
   "id": "4eeb227e",
   "metadata": {},
   "outputs": [
    {
     "name": "stdout",
     "output_type": "stream",
     "text": [
      "Number of countries in result:  55\n"
     ]
    }
   ],
   "source": [
    "# Create a pipeline that: \n",
    "# 1. Matches establishments with a hygiene score of 0\n",
    "match_query = {'$match': {'scores.Hygiene': {'$eq': 0}}}\n",
    "\n",
    "# 2. Groups the matches by Local Authority\n",
    "group_query = {'$group': {'_id': \"$LocalAuthorityName\", 'count': { '$sum': 1 }}}\n",
    "\n",
    "# 3. Sorts the matches from highest to lowest\n",
    "sort_values = {'$sort': { 'count': 1 }}\n",
    "\n",
    "pipeline = [match_query, group_query, sort_values]\n",
    "results = list(establishments.aggregate(pipeline))\n",
    "\n",
    "# Print the number of documents in the result\n",
    "print(\"Number of establishments in result: \", len(results))\n",
    "\n"
   ]
  },
  {
   "cell_type": "code",
   "execution_count": 37,
   "id": "9efe5736",
   "metadata": {},
   "outputs": [
    {
     "name": "stdout",
     "output_type": "stream",
     "text": [
      "[{'_id': 'Reading', 'count': 1},\n",
      " {'_id': 'Kensington and Chelsea', 'count': 1},\n",
      " {'_id': 'Sunderland', 'count': 1},\n",
      " {'_id': 'Broxbourne', 'count': 1},\n",
      " {'_id': 'Dorset', 'count': 1},\n",
      " {'_id': 'North Norfolk', 'count': 1},\n",
      " {'_id': 'Mid Sussex', 'count': 5},\n",
      " {'_id': 'North Hertfordshire', 'count': 6},\n",
      " {'_id': 'Tower Hamlets', 'count': 9},\n",
      " {'_id': 'Ipswich', 'count': 21}]\n"
     ]
    }
   ],
   "source": [
    "# Print the first 10 results\n",
    "pprint(results[0:10])"
   ]
  },
  {
   "cell_type": "code",
   "execution_count": 38,
   "id": "d8aab364",
   "metadata": {},
   "outputs": [],
   "source": [
    "# Convert the result to a Pandas DataFrame\n",
    "results_df = pd.DataFrame(results)\n",
    "\n",
    "\n",
    "\n"
   ]
  },
  {
   "cell_type": "code",
   "execution_count": 39,
   "id": "8bd39110",
   "metadata": {},
   "outputs": [
    {
     "name": "stdout",
     "output_type": "stream",
     "text": [
      "There are 55 rows in the \"results_df\" dataframe.\n"
     ]
    }
   ],
   "source": [
    "# Display the number of rows in the DataFrame\n",
    "rows = len(results_df)\n",
    "print(f'There are {rows} rows in the \"results_df\" dataframe.')\n"
   ]
  },
  {
   "cell_type": "code",
   "execution_count": 40,
   "id": "2b70b4e0",
   "metadata": {},
   "outputs": [
    {
     "data": {
      "text/html": [
       "<div>\n",
       "<style scoped>\n",
       "    .dataframe tbody tr th:only-of-type {\n",
       "        vertical-align: middle;\n",
       "    }\n",
       "\n",
       "    .dataframe tbody tr th {\n",
       "        vertical-align: top;\n",
       "    }\n",
       "\n",
       "    .dataframe thead th {\n",
       "        text-align: right;\n",
       "    }\n",
       "</style>\n",
       "<table border=\"1\" class=\"dataframe\">\n",
       "  <thead>\n",
       "    <tr style=\"text-align: right;\">\n",
       "      <th></th>\n",
       "      <th>_id</th>\n",
       "      <th>count</th>\n",
       "    </tr>\n",
       "  </thead>\n",
       "  <tbody>\n",
       "    <tr>\n",
       "      <th>0</th>\n",
       "      <td>Reading</td>\n",
       "      <td>1</td>\n",
       "    </tr>\n",
       "    <tr>\n",
       "      <th>1</th>\n",
       "      <td>Kensington and Chelsea</td>\n",
       "      <td>1</td>\n",
       "    </tr>\n",
       "    <tr>\n",
       "      <th>2</th>\n",
       "      <td>Sunderland</td>\n",
       "      <td>1</td>\n",
       "    </tr>\n",
       "    <tr>\n",
       "      <th>3</th>\n",
       "      <td>Broxbourne</td>\n",
       "      <td>1</td>\n",
       "    </tr>\n",
       "    <tr>\n",
       "      <th>4</th>\n",
       "      <td>Dorset</td>\n",
       "      <td>1</td>\n",
       "    </tr>\n",
       "    <tr>\n",
       "      <th>5</th>\n",
       "      <td>North Norfolk</td>\n",
       "      <td>1</td>\n",
       "    </tr>\n",
       "    <tr>\n",
       "      <th>6</th>\n",
       "      <td>Mid Sussex</td>\n",
       "      <td>5</td>\n",
       "    </tr>\n",
       "    <tr>\n",
       "      <th>7</th>\n",
       "      <td>North Hertfordshire</td>\n",
       "      <td>6</td>\n",
       "    </tr>\n",
       "    <tr>\n",
       "      <th>8</th>\n",
       "      <td>Tower Hamlets</td>\n",
       "      <td>9</td>\n",
       "    </tr>\n",
       "    <tr>\n",
       "      <th>9</th>\n",
       "      <td>Ipswich</td>\n",
       "      <td>21</td>\n",
       "    </tr>\n",
       "  </tbody>\n",
       "</table>\n",
       "</div>"
      ],
      "text/plain": [
       "                      _id  count\n",
       "0                 Reading      1\n",
       "1  Kensington and Chelsea      1\n",
       "2              Sunderland      1\n",
       "3              Broxbourne      1\n",
       "4                  Dorset      1\n",
       "5           North Norfolk      1\n",
       "6              Mid Sussex      5\n",
       "7     North Hertfordshire      6\n",
       "8           Tower Hamlets      9\n",
       "9                 Ipswich     21"
      ]
     },
     "execution_count": 40,
     "metadata": {},
     "output_type": "execute_result"
    }
   ],
   "source": [
    "# Display the first 10 rows of the DataFrame\n",
    "results_df.head(10)\n"
   ]
  },
  {
   "cell_type": "code",
   "execution_count": null,
   "id": "2cd407e9",
   "metadata": {},
   "outputs": [],
   "source": []
  }
 ],
 "metadata": {
  "kernelspec": {
   "display_name": "PythonData",
   "language": "python",
   "name": "pythondata"
  },
  "language_info": {
   "codemirror_mode": {
    "name": "ipython",
    "version": 3
   },
   "file_extension": ".py",
   "mimetype": "text/x-python",
   "name": "python",
   "nbconvert_exporter": "python",
   "pygments_lexer": "ipython3",
   "version": "3.7.7"
  }
 },
 "nbformat": 4,
 "nbformat_minor": 5
}
