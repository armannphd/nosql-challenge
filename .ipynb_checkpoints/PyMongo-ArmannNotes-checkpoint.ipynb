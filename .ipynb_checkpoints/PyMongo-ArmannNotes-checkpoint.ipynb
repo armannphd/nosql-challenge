{
 "cells": [
  {
   "cell_type": "code",
   "execution_count": null,
   "id": "8d8a389b",
   "metadata": {},
   "outputs": [],
   "source": [
    "# import\n",
    "from pymongo import MongoClient\n",
    "from pprint import pprint\n",
    "\n",
    "# port used\n",
    "mongo = MongoClient(port=27017)\n"
   ]
  },
  {
   "cell_type": "code",
   "execution_count": null,
   "id": "370a1b16",
   "metadata": {},
   "outputs": [],
   "source": [
    "# Defining the database\n",
    "db = mongo.['database_name']\n",
    "\n",
    "# declare/assign the collection\n",
    "'collection_name' = db.['collection_name']"
   ]
  },
  {
   "cell_type": "code",
   "execution_count": null,
   "id": "836b90ba",
   "metadata": {},
   "outputs": [],
   "source": [
    "# insert\n",
    "db.'collection_name'.insert_one('name_of_entity_to_be_inserted')\n",
    "\n",
    "# update\n",
    "db.'collection_name'.update_one('name_of_entity_to_be_updated')\n",
    "\n",
    "# delete\n",
    "db.'collection_name'.delete_one('name_of_entity_to_be_deleted')\n",
    "\n",
    "# Delete a collection\n",
    "db.drop_collection('collection_name')\n",
    "\n",
    "# view/check the collections available\n",
    "db.list_collection_names()\n",
    "\n",
    "\n",
    "# Delete the database\n",
    "mongo.drop_database('database_name')\n",
    "\n",
    "# view/check databases available\n",
    "mongo.list_database_names()\n",
    "\n",
    "\n",
    "\n"
   ]
  },
  {
   "cell_type": "code",
   "execution_count": null,
   "id": "e6b37391",
   "metadata": {},
   "outputs": [],
   "source": [
    "# find/view one of the items within a collection\n",
    "db.'collection_name'.find_one()\n",
    "\n",
    "# count the number of entries (documents) within a collection\n",
    "'collection_name'.count_documents({})\n",
    "\n",
    "\n",
    "\n"
   ]
  },
  {
   "cell_type": "code",
   "execution_count": null,
   "id": "ca53f852",
   "metadata": {},
   "outputs": [],
   "source": [
    "# change all datatypes within a collection to double\n",
    "'collection_name'.update_many({}, [ {'$set':{ \"field_name\" : {'$toDouble': \"$field_name\"}}} ])\n",
    "\n"
   ]
  },
  {
   "cell_type": "code",
   "execution_count": null,
   "id": "98c28d3b",
   "metadata": {},
   "outputs": [],
   "source": [
    "# find/view only certain fields within a collection, in this example, two fields, but can be many more or just one\n",
    "query = {}\n",
    "fields = {'field_name_1': 1, 'field_name_2': 1}\n",
    "\n",
    "# Capture the results to a variable\n",
    "results = 'collection_name'.find(query, fields)\n",
    "\n",
    "# Pretty print the results\n",
    "for result in results:\n",
    "    pprint(result)\n",
    "\n",
    "    "
   ]
  },
  {
   "cell_type": "code",
   "execution_count": null,
   "id": "89d28c6d",
   "metadata": {},
   "outputs": [],
   "source": [
    "# view everything within a document except certain fields, this example, view all but 'field_name_1' and 'field_name_2'\n",
    "query = {}\n",
    "fields = {'field_name_1': 0, 'field_name_2': 0}\n",
    "\n",
    "# Capture the results to a variable\n",
    "results = 'collection_name'.find(query, fields)\n",
    "\n",
    "# Pretty print the results\n",
    "for result in results:\n",
    "    pprint(result)\n",
    "\n",
    "    "
   ]
  },
  {
   "cell_type": "code",
   "execution_count": null,
   "id": "ad546a34",
   "metadata": {},
   "outputs": [],
   "source": [
    "# print first result within a collection from a specific query\n",
    "print(\"First result:\")\n",
    "query = {'field_name/key': \"variable/value\"}\n",
    "results = 'collection_name'.find(query)\n",
    "pprint(results[0])\n",
    "\n"
   ]
  },
  {
   "cell_type": "code",
   "execution_count": null,
   "id": "706c6d47",
   "metadata": {},
   "outputs": [],
   "source": [
    "# Example, create a query that finds variables greater than or equal to 5\n",
    "query = {'field_name': {'$gte': 'variable'}}\n",
    "\n",
    "# Capture the results to a variable\n",
    "results = 'classification'.find(query)\n",
    "\n",
    "# Pretty print the first two results\n",
    "for i in range(2):\n",
    "    pprint(results[i])"
   ]
  },
  {
   "cell_type": "code",
   "execution_count": null,
   "id": "f480a11f",
   "metadata": {},
   "outputs": [],
   "source": [
    "# Comparison Operators\n",
    "'greater than or equal to' = $gte\n",
    "'less than or equal to' = $lte\n",
    "'greater than' = $gt\n",
    "'less than' = $lt\n",
    "'check if value is in list of specified fields' = $in\n",
    "'check if value of field is no in list of specified values' = $nin\n",
    "'equal to' = $eq\n",
    "'checks if field is not equal to specified value' = $ne\n",
    "'regular expression is used to find specific words in a field' = $regex\n",
    "\n"
   ]
  },
  {
   "cell_type": "code",
   "execution_count": null,
   "id": "f9c3caa0",
   "metadata": {},
   "outputs": [],
   "source": [
    "# Example of query using regex\n",
    "query = {'field_name': {'$regex': \"word_to_check_if_within_field_name\"}}\n"
   ]
  },
  {
   "cell_type": "code",
   "execution_count": null,
   "id": "ec9242aa",
   "metadata": {},
   "outputs": [],
   "source": [
    "# Example to see if either of two words are in a field\n",
    "query = {'field-name': {'$in': [\"word_1\", \"word_2\"]}}\n"
   ]
  },
  {
   "cell_type": "code",
   "execution_count": null,
   "id": "dbcdd9ea",
   "metadata": {},
   "outputs": [],
   "source": [
    "# sort a collection in ascending order\n",
    "\n",
    "query = {}\n",
    "sort = [('field_name', 1)]\n",
    "\n",
    "# Capture the results to a variable\n",
    "results = 'collection_name'.find(query).sort(sort)\n",
    "\n",
    "# Pretty print the first five results\n",
    "for i in range(5):\n",
    "    pprint(results[i])\n",
    "\n",
    "# sort a collection in descending order\n",
    "\n",
    "query = {}\n",
    "sort = [('field_name', -1)]\n",
    "\n",
    "# Capture the results to a variable\n",
    "results = 'collection_name'.find(query).sort(sort)\n",
    "\n",
    "# Pretty print the first five results\n",
    "for i in range(5):\n",
    "    pprint(results[i])\n",
    "    "
   ]
  },
  {
   "cell_type": "code",
   "execution_count": null,
   "id": "7e6786e0",
   "metadata": {},
   "outputs": [],
   "source": [
    "# Example of querying a collection for two words, sorting twice on consecutive fields, and then viewing top 5\n",
    "query = {'field_name': {'$in': [\"word_1\", \"word_2\"]}}\n",
    "sort = [('field_name_1', -1), ('field_name_2', 1)] # note sort descending on 'field_name_1' and ascending on 'field_name_2'\n",
    "limit = 5\n",
    "\n",
    "# Pretty print the results\n",
    "pprint(list('collection_name'.find(query).sort(sort).limit(limit)))\n",
    "\n",
    "\n",
    "\n",
    "\n"
   ]
  },
  {
   "cell_type": "code",
   "execution_count": null,
   "id": "7189c4c2",
   "metadata": {},
   "outputs": [],
   "source": [
    "# Example querying two fields, reporting only certain fields, sorting twice and viewing 8 results\n",
    "query = {'field_1': {'$lt': 500}, # those in field_1 with value less than 500\n",
    "         'field_2': {'$gt': 20}} # those in field_2 with value greater than 20\n",
    "\n",
    "# Remove the 'Address' and 'Email' fields from the results\n",
    "fields = {'field_3': 0, 'field_4': 0} # want to view only two separate fields\n",
    "\n",
    "# sort in ascending order by '2021_Visits', '2021_Total_Spend'\n",
    "sort = [('field_1', 1), ('field_2', 1)] # sorting by original fields in query, but can sort on anything\n",
    "\n",
    "# limit the results to the first 8\n",
    "limit = 8\n",
    "\n",
    "# Pretty print the results\n",
    "pprint(list('collection_name'.find(query, fields).sort(sort).limit(limit)))\n",
    "\n"
   ]
  }
 ],
 "metadata": {
  "kernelspec": {
   "display_name": "PythonData",
   "language": "python",
   "name": "pythondata"
  },
  "language_info": {
   "codemirror_mode": {
    "name": "ipython",
    "version": 3
   },
   "file_extension": ".py",
   "mimetype": "text/x-python",
   "name": "python",
   "nbconvert_exporter": "python",
   "pygments_lexer": "ipython3",
   "version": "3.7.7"
  }
 },
 "nbformat": 4,
 "nbformat_minor": 5
}
